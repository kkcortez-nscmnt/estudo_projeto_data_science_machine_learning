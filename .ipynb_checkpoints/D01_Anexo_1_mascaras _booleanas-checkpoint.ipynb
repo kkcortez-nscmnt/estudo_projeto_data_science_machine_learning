{
 "cells": [
  {
   "cell_type": "markdown",
   "id": "3c6e7ce4",
   "metadata": {},
   "source": [
    "### Máscaras Booleanas\n",
    "\n",
    "Uma maneira de filtrar um array, ou série obedecendo alguma condição.\n",
    "Utilizando os operadores relacionais PYTHON\n",
    "\n",
    "| Operadores Relacionais| Simbolo |\n",
    "|:-:|:-:|\n",
    "|igual| == |\n",
    "|maior que | > |\n",
    "|menor que | < |\n",
    "|maior ou igual a| >= |\n",
    "|menor ou igual a|<= |\n",
    "\n",
    "A saída dessa comparação é um array com uma série de valores booleanos TRUE/FALSE.\n",
    "\n",
    "Desmostração do conceito de mascaras booleanas utilizando __dados sintéticos__ e a biblioteca numpy."
   ]
  },
  {
   "cell_type": "code",
   "execution_count": 5,
   "id": "d6f00f27",
   "metadata": {},
   "outputs": [
    {
     "data": {
      "text/plain": [
       "array([3, 4, 1, 4, 2])"
      ]
     },
     "execution_count": 5,
     "metadata": {},
     "output_type": "execute_result"
    }
   ],
   "source": [
    "import numpy as np\n",
    "np.random.seed(24)\n",
    "random_integers =np.random.randint(low = 1, high = 5, size = 100)\n",
    "random_integers[:5]"
   ]
  },
  {
   "cell_type": "code",
   "execution_count": 6,
   "id": "1c5af679",
   "metadata": {},
   "outputs": [
    {
     "data": {
      "text/plain": [
       "array([ True, False, False, False, False])"
      ]
     },
     "execution_count": 6,
     "metadata": {},
     "output_type": "execute_result"
    }
   ],
   "source": [
    "# aplicação das mascaras\n",
    "is_equal_to_3 = random_integers == 3\n",
    "is_equal_to_3[:5]"
   ]
  },
  {
   "cell_type": "markdown",
   "id": "f1975df0",
   "metadata": {},
   "source": [
    "Além de ver quantos valores do array atendem à condição booleana, podemos usar máscaras para selecionar os elementos do array original que atendem a uma condição."
   ]
  },
  {
   "cell_type": "code",
   "execution_count": 8,
   "id": "36eb827c",
   "metadata": {},
   "outputs": [
    {
     "data": {
      "text/plain": [
       "array([3, 3, 3, 3, 3, 3, 3, 3, 3, 3, 3, 3, 3, 3, 3, 3, 3, 3, 3, 3, 3, 3])"
      ]
     },
     "execution_count": 8,
     "metadata": {},
     "output_type": "execute_result"
    }
   ],
   "source": [
    "# retorna um array comas condições especificadas.\n",
    "random_integers[is_equal_to_3]\n"
   ]
  },
  {
   "cell_type": "code",
   "execution_count": null,
   "id": "336764e4",
   "metadata": {},
   "outputs": [],
   "source": []
  }
 ],
 "metadata": {
  "kernelspec": {
   "display_name": "Python 3",
   "language": "python",
   "name": "python3"
  },
  "language_info": {
   "codemirror_mode": {
    "name": "ipython",
    "version": 3
   },
   "file_extension": ".py",
   "mimetype": "text/x-python",
   "name": "python",
   "nbconvert_exporter": "python",
   "pygments_lexer": "ipython3",
   "version": "3.9.5"
  }
 },
 "nbformat": 4,
 "nbformat_minor": 5
}
