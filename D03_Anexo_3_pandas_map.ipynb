{
 "cells": [
  {
   "cell_type": "markdown",
   "id": "e25aad42",
   "metadata": {},
   "source": [
    "### Substituindo valores de uma série pandas por outro valor utillizandoo método .map()"
   ]
  },
  {
   "cell_type": "markdown",
   "id": "58712f95",
   "metadata": {},
   "source": [
    "import pandas as pd\n",
    "\n",
    "my_series = pd.Series(\n",
    "    [85,87,90,89],\n",
    "    index = ['1', '2', '3', '4']\n",
    ")\n",
    "\n",
    "print(my_series)\n"
   ]
  },
  {
   "cell_type": "markdown",
   "id": "7fc8bb7f",
   "metadata": {},
   "source": [
    "#### sintaxe\n",
    "series.map(arg, na_action=None)\n",
    "\n",
    "retorna um objeto series substituindo os valores do objeto, baseando-se no parâmetro arg.\n",
    "arg pode ser uma função dicinário ou series.\n",
    "na_action pode ser None ou 'ignore'.\n",
    "'ignore' indica ignorar os valores NaN na série."
   ]
  },
  {
   "cell_type": "code",
   "execution_count": 5,
   "id": "68ad8271",
   "metadata": {},
   "outputs": [
    {
     "name": "stdout",
     "output_type": "stream",
     "text": [
      "Serie inicial:\n",
      "1    85\n",
      "2    87\n",
      "3    90\n",
      "4    89\n",
      "dtype: int64 \n",
      "\n",
      "Serie alterada:\n",
      "1    80\n",
      "2    80\n",
      "3    90\n",
      "4    80\n",
      "dtype: int64 \n",
      "\n"
     ]
    }
   ],
   "source": [
    "altered_series = my_series.map({85:80, 87:80, 90:90, 89:80})\n",
    "\n",
    "print('Serie inicial:')\n",
    "print(my_series, '\\n')\n",
    "print('Serie alterada:')\n",
    "print(altered_series, '\\n')"
   ]
  }
 ],
 "metadata": {
  "kernelspec": {
   "display_name": "Python 3",
   "language": "python",
   "name": "python3"
  },
  "language_info": {
   "codemirror_mode": {
    "name": "ipython",
    "version": 3
   },
   "file_extension": ".py",
   "mimetype": "text/x-python",
   "name": "python",
   "nbconvert_exporter": "python",
   "pygments_lexer": "ipython3",
   "version": "3.9.5"
  }
 },
 "nbformat": 4,
 "nbformat_minor": 5
}
